{
 "cells": [
  {
   "cell_type": "code",
   "execution_count": 34,
   "metadata": {},
   "outputs": [],
   "source": [
    "# Import statements\n",
    "import tensorflow as tf\n",
    "import numpy as np\n",
    "import scipy.io\n",
    "import os\n",
    "import matplotlib.pyplot as plt\n",
    "import h5py\n",
    "import pandas as pd\n",
    "import csv\n",
    "\n",
    "from tensorflow import keras\n",
    "from tensorflow.keras import layers\n",
    "from sklearn.model_selection import train_test_split\n",
    "from sklearn.preprocessing import MinMaxScaler\n",
    "from sklearn.metrics import mean_squared_error\n",
    "from sklearn.utils import shuffle"
   ]
  },
  {
   "cell_type": "code",
   "execution_count": 2,
   "metadata": {},
   "outputs": [],
   "source": [
    "# Plot formatting defaults\n",
    "plt.rc('ytick', direction='out')\n",
    "plt.rc('grid', color='w', linestyle='solid')\n",
    "plt.rcParams['figure.figsize'] = [10, 8]\n",
    "plt.rcParams.update({'font.size': 22})\n",
    "plt.rc('xtick', direction='out')\n",
    "plt.rc('patch', edgecolor='#E6E6E6')\n",
    "plt.rc('lines', linewidth=2)"
   ]
  },
  {
   "cell_type": "code",
   "execution_count": 4,
   "metadata": {},
   "outputs": [
    {
     "name": "stdout",
     "output_type": "stream",
     "text": [
      "(1457, 1200, 2)\n",
      "(1457,)\n",
      "(162, 1200, 2)\n",
      "(162,)\n",
      "(7109, 1200, 2)\n",
      "(7109,)\n"
     ]
    }
   ],
   "source": [
    "# Load in train and test data\n",
    "\n",
    "mat = scipy.io.loadmat('W8_samples.mat')\n",
    "W8_cell_data = mat['cell_data']\n",
    "\n",
    "mat = scipy.io.loadmat('W9_samples.mat')\n",
    "W9_cell_data = mat['cell_data']\n",
    "\n",
    "del mat\n",
    "\n",
    "# X_train, y_train = shuffle(W8_cell_data[:,1:], W8_cell_data[:,0])\n",
    "X_train, X_valid, y_train, y_valid = train_test_split(W8_cell_data[:,1:], W8_cell_data[:,0], test_size=0.1, shuffle= True)\n",
    "\n",
    "# X_train = W8_cell_data[:,1:]\n",
    "# y_train = W8_cell_data[:,0]\n",
    "\n",
    "# X_test, X_valid, y_test, y_valid = train_test_split(W9_cell_data[:,1:], W9_cell_data[:,0], test_size=0.1, shuffle= True)\n",
    "\n",
    "\n",
    "X_test = W9_cell_data[:,1:]\n",
    "y_test = W9_cell_data[:,0]\n",
    "\n",
    "# Reshape for CNN: shape = (# samples, # timesteps, # features)\n",
    "X_train = np.transpose(np.reshape(X_train, (X_train.shape[0], 2, int(X_train.shape[1]/2))), (0, 2, 1))\n",
    "X_valid = np.transpose(np.reshape(X_valid, (X_valid.shape[0], 2, int(X_valid.shape[1]/2))), (0, 2, 1))\n",
    "X_test = np.transpose(np.reshape(X_test, (X_test.shape[0], 2, int(X_test.shape[1]/2))), (0, 2, 1))\n",
    "\n",
    "# Downsample test by 1/100 for testing\n",
    "y_test = y_test[0::10]*100\n",
    "X_test = X_test[0::10, :, :]\n",
    "y_train = y_train[0::50]*100\n",
    "X_train = X_train[0::50, :, :]\n",
    "y_valid = y_valid[0::50]*100\n",
    "X_valid = X_valid[0::50, :, :]\n",
    "\n",
    "# Save dimensions for LSTM\n",
    "\n",
    "n_samp, n_time, n_feat = X_train.shape\n",
    "\n",
    "print(X_train.shape)\n",
    "print(y_train.shape)\n",
    "print(X_valid.shape)\n",
    "print(y_valid.shape)\n",
    "print(X_test.shape)\n",
    "print(y_test.shape)"
   ]
  },
  {
   "cell_type": "code",
   "execution_count": 30,
   "metadata": {},
   "outputs": [],
   "source": [
    "# Load in capacity data for each cell\n",
    "df = pd.read_csv('cell_caps_interp1.csv', header=None)"
   ]
  },
  {
   "cell_type": "code",
   "execution_count": 31,
   "metadata": {},
   "outputs": [],
   "source": [
    "def create_dataset(dataset, look_back=1):\n",
    "\tdataX, dataY = [], []\n",
    "\tfor i in range(len(dataset)-look_back-1):\n",
    "\t\ta = dataset[i:(i+look_back), 0]\n",
    "\t\tdataX.append(a)\n",
    "\t\tdataY.append(dataset[i + look_back, 0])\n",
    "\treturn np.array(dataX), np.array(dataY)\n",
    "# fix random seed for reproducibility"
   ]
  },
  {
   "cell_type": "code",
   "execution_count": 54,
   "metadata": {},
   "outputs": [
    {
     "name": "stdout",
     "output_type": "stream",
     "text": [
      "88 207\n"
     ]
    }
   ],
   "source": [
    "W5_caps = df.iloc[0].to_numpy()\n",
    "W5_caps = np.reshape(W5_caps, (-1,1))\n",
    "\n",
    "scaler = MinMaxScaler(feature_range=(0, 1))\n",
    "W5_caps = scaler.fit_transform(W5_caps)\n",
    "\n",
    "# split into train and test sets\n",
    "train_size = int(len(W5_caps) * 0.3)\n",
    "test_size = len(W5_caps) - train_size\n",
    "train, test = W5_caps[0:train_size,:], W5_caps[train_size:len(W5_caps),:]\n",
    "print(len(train), len(test))"
   ]
  },
  {
   "cell_type": "code",
   "execution_count": 55,
   "metadata": {},
   "outputs": [
    {
     "data": {
      "text/plain": [
       "(88, 1)"
      ]
     },
     "execution_count": 55,
     "metadata": {},
     "output_type": "execute_result"
    }
   ],
   "source": [
    "train.shape"
   ]
  },
  {
   "cell_type": "code",
   "execution_count": 60,
   "metadata": {},
   "outputs": [],
   "source": [
    "# reshape into X=t and Y=t+1\n",
    "look_back = 1\n",
    "trainX, trainY = create_dataset(train, look_back)\n",
    "testX, testY = create_dataset(test, look_back)"
   ]
  },
  {
   "cell_type": "code",
   "execution_count": 61,
   "metadata": {},
   "outputs": [
    {
     "name": "stdout",
     "output_type": "stream",
     "text": [
      "Epoch 1/100\n"
     ]
    },
    {
     "name": "stderr",
     "output_type": "stream",
     "text": [
      "2022-05-24 22:09:48.098879: I tensorflow/core/grappler/optimizers/custom_graph_optimizer_registry.cc:113] Plugin optimizer for device_type GPU is enabled.\n",
      "2022-05-24 22:09:48.175804: I tensorflow/core/grappler/optimizers/custom_graph_optimizer_registry.cc:113] Plugin optimizer for device_type GPU is enabled.\n",
      "2022-05-24 22:09:48.243883: I tensorflow/core/grappler/optimizers/custom_graph_optimizer_registry.cc:113] Plugin optimizer for device_type GPU is enabled.\n"
     ]
    },
    {
     "name": "stdout",
     "output_type": "stream",
     "text": [
      "86/86 - 1s - loss: 0.5720 - 1s/epoch - 14ms/step\n",
      "Epoch 2/100\n",
      "86/86 - 0s - loss: 0.2878 - 354ms/epoch - 4ms/step\n",
      "Epoch 3/100\n",
      "86/86 - 0s - loss: 0.1101 - 342ms/epoch - 4ms/step\n",
      "Epoch 4/100\n",
      "86/86 - 0s - loss: 0.0294 - 340ms/epoch - 4ms/step\n",
      "Epoch 5/100\n",
      "86/86 - 0s - loss: 0.0067 - 329ms/epoch - 4ms/step\n",
      "Epoch 6/100\n",
      "86/86 - 0s - loss: 0.0027 - 347ms/epoch - 4ms/step\n",
      "Epoch 7/100\n",
      "86/86 - 0s - loss: 0.0023 - 341ms/epoch - 4ms/step\n",
      "Epoch 8/100\n",
      "86/86 - 0s - loss: 0.0023 - 332ms/epoch - 4ms/step\n",
      "Epoch 9/100\n",
      "86/86 - 0s - loss: 0.0022 - 335ms/epoch - 4ms/step\n",
      "Epoch 10/100\n",
      "86/86 - 0s - loss: 0.0022 - 330ms/epoch - 4ms/step\n",
      "Epoch 11/100\n",
      "86/86 - 0s - loss: 0.0022 - 328ms/epoch - 4ms/step\n",
      "Epoch 12/100\n",
      "86/86 - 0s - loss: 0.0022 - 325ms/epoch - 4ms/step\n",
      "Epoch 13/100\n",
      "86/86 - 0s - loss: 0.0022 - 325ms/epoch - 4ms/step\n",
      "Epoch 14/100\n",
      "86/86 - 0s - loss: 0.0022 - 331ms/epoch - 4ms/step\n",
      "Epoch 15/100\n",
      "86/86 - 0s - loss: 0.0021 - 328ms/epoch - 4ms/step\n",
      "Epoch 16/100\n",
      "86/86 - 0s - loss: 0.0021 - 327ms/epoch - 4ms/step\n",
      "Epoch 17/100\n",
      "86/86 - 0s - loss: 0.0021 - 326ms/epoch - 4ms/step\n",
      "Epoch 18/100\n",
      "86/86 - 0s - loss: 0.0021 - 323ms/epoch - 4ms/step\n",
      "Epoch 19/100\n",
      "86/86 - 0s - loss: 0.0021 - 335ms/epoch - 4ms/step\n",
      "Epoch 20/100\n",
      "86/86 - 0s - loss: 0.0021 - 328ms/epoch - 4ms/step\n",
      "Epoch 21/100\n",
      "86/86 - 0s - loss: 0.0020 - 327ms/epoch - 4ms/step\n",
      "Epoch 22/100\n",
      "86/86 - 0s - loss: 0.0020 - 323ms/epoch - 4ms/step\n",
      "Epoch 23/100\n",
      "86/86 - 0s - loss: 0.0020 - 328ms/epoch - 4ms/step\n",
      "Epoch 24/100\n",
      "86/86 - 0s - loss: 0.0019 - 356ms/epoch - 4ms/step\n",
      "Epoch 25/100\n",
      "86/86 - 0s - loss: 0.0019 - 329ms/epoch - 4ms/step\n",
      "Epoch 26/100\n",
      "86/86 - 0s - loss: 0.0019 - 350ms/epoch - 4ms/step\n",
      "Epoch 27/100\n",
      "86/86 - 0s - loss: 0.0018 - 326ms/epoch - 4ms/step\n",
      "Epoch 28/100\n",
      "86/86 - 0s - loss: 0.0018 - 353ms/epoch - 4ms/step\n",
      "Epoch 29/100\n",
      "86/86 - 0s - loss: 0.0018 - 325ms/epoch - 4ms/step\n",
      "Epoch 30/100\n",
      "86/86 - 0s - loss: 0.0017 - 328ms/epoch - 4ms/step\n",
      "Epoch 31/100\n",
      "86/86 - 0s - loss: 0.0017 - 326ms/epoch - 4ms/step\n",
      "Epoch 32/100\n",
      "86/86 - 0s - loss: 0.0017 - 328ms/epoch - 4ms/step\n",
      "Epoch 33/100\n",
      "86/86 - 0s - loss: 0.0017 - 332ms/epoch - 4ms/step\n",
      "Epoch 34/100\n",
      "86/86 - 0s - loss: 0.0016 - 325ms/epoch - 4ms/step\n",
      "Epoch 35/100\n",
      "86/86 - 0s - loss: 0.0016 - 326ms/epoch - 4ms/step\n",
      "Epoch 36/100\n",
      "86/86 - 0s - loss: 0.0016 - 326ms/epoch - 4ms/step\n",
      "Epoch 37/100\n",
      "86/86 - 0s - loss: 0.0015 - 324ms/epoch - 4ms/step\n",
      "Epoch 38/100\n",
      "86/86 - 0s - loss: 0.0015 - 330ms/epoch - 4ms/step\n",
      "Epoch 39/100\n",
      "86/86 - 0s - loss: 0.0014 - 327ms/epoch - 4ms/step\n",
      "Epoch 40/100\n",
      "86/86 - 0s - loss: 0.0014 - 325ms/epoch - 4ms/step\n",
      "Epoch 41/100\n",
      "86/86 - 0s - loss: 0.0013 - 332ms/epoch - 4ms/step\n",
      "Epoch 42/100\n",
      "86/86 - 0s - loss: 0.0013 - 330ms/epoch - 4ms/step\n",
      "Epoch 43/100\n",
      "86/86 - 0s - loss: 0.0013 - 325ms/epoch - 4ms/step\n",
      "Epoch 44/100\n",
      "86/86 - 0s - loss: 0.0013 - 334ms/epoch - 4ms/step\n",
      "Epoch 45/100\n",
      "86/86 - 0s - loss: 0.0012 - 325ms/epoch - 4ms/step\n",
      "Epoch 46/100\n",
      "86/86 - 0s - loss: 0.0012 - 324ms/epoch - 4ms/step\n",
      "Epoch 47/100\n",
      "86/86 - 0s - loss: 0.0011 - 326ms/epoch - 4ms/step\n",
      "Epoch 48/100\n",
      "86/86 - 0s - loss: 0.0012 - 324ms/epoch - 4ms/step\n",
      "Epoch 49/100\n",
      "86/86 - 0s - loss: 0.0011 - 324ms/epoch - 4ms/step\n",
      "Epoch 50/100\n",
      "86/86 - 0s - loss: 0.0010 - 330ms/epoch - 4ms/step\n",
      "Epoch 51/100\n",
      "86/86 - 0s - loss: 0.0010 - 326ms/epoch - 4ms/step\n",
      "Epoch 52/100\n",
      "86/86 - 0s - loss: 9.7263e-04 - 324ms/epoch - 4ms/step\n",
      "Epoch 53/100\n",
      "86/86 - 0s - loss: 8.7956e-04 - 326ms/epoch - 4ms/step\n",
      "Epoch 54/100\n",
      "86/86 - 0s - loss: 8.9816e-04 - 325ms/epoch - 4ms/step\n",
      "Epoch 55/100\n",
      "86/86 - 0s - loss: 8.4892e-04 - 325ms/epoch - 4ms/step\n",
      "Epoch 56/100\n",
      "86/86 - 0s - loss: 8.3404e-04 - 325ms/epoch - 4ms/step\n",
      "Epoch 57/100\n",
      "86/86 - 0s - loss: 7.6319e-04 - 326ms/epoch - 4ms/step\n",
      "Epoch 58/100\n",
      "86/86 - 0s - loss: 7.6837e-04 - 328ms/epoch - 4ms/step\n",
      "Epoch 59/100\n",
      "86/86 - 0s - loss: 7.4867e-04 - 328ms/epoch - 4ms/step\n",
      "Epoch 60/100\n",
      "86/86 - 0s - loss: 6.9327e-04 - 327ms/epoch - 4ms/step\n",
      "Epoch 61/100\n",
      "86/86 - 0s - loss: 6.9626e-04 - 334ms/epoch - 4ms/step\n",
      "Epoch 62/100\n",
      "86/86 - 0s - loss: 6.2465e-04 - 325ms/epoch - 4ms/step\n",
      "Epoch 63/100\n",
      "86/86 - 0s - loss: 5.8147e-04 - 328ms/epoch - 4ms/step\n",
      "Epoch 64/100\n",
      "86/86 - 0s - loss: 5.9475e-04 - 334ms/epoch - 4ms/step\n",
      "Epoch 65/100\n",
      "86/86 - 0s - loss: 5.5287e-04 - 331ms/epoch - 4ms/step\n",
      "Epoch 66/100\n",
      "86/86 - 0s - loss: 5.4853e-04 - 325ms/epoch - 4ms/step\n",
      "Epoch 67/100\n",
      "86/86 - 0s - loss: 5.0151e-04 - 327ms/epoch - 4ms/step\n",
      "Epoch 68/100\n",
      "86/86 - 0s - loss: 4.3223e-04 - 326ms/epoch - 4ms/step\n",
      "Epoch 69/100\n",
      "86/86 - 0s - loss: 4.3643e-04 - 327ms/epoch - 4ms/step\n",
      "Epoch 70/100\n",
      "86/86 - 0s - loss: 3.8904e-04 - 329ms/epoch - 4ms/step\n",
      "Epoch 71/100\n",
      "86/86 - 0s - loss: 3.7970e-04 - 326ms/epoch - 4ms/step\n",
      "Epoch 72/100\n",
      "86/86 - 0s - loss: 3.3922e-04 - 334ms/epoch - 4ms/step\n",
      "Epoch 73/100\n",
      "86/86 - 0s - loss: 3.2760e-04 - 326ms/epoch - 4ms/step\n",
      "Epoch 74/100\n",
      "86/86 - 0s - loss: 3.1163e-04 - 327ms/epoch - 4ms/step\n",
      "Epoch 75/100\n",
      "86/86 - 0s - loss: 2.9750e-04 - 328ms/epoch - 4ms/step\n",
      "Epoch 76/100\n",
      "86/86 - 0s - loss: 2.5502e-04 - 336ms/epoch - 4ms/step\n",
      "Epoch 77/100\n",
      "86/86 - 0s - loss: 2.4661e-04 - 332ms/epoch - 4ms/step\n",
      "Epoch 78/100\n",
      "86/86 - 0s - loss: 2.3283e-04 - 327ms/epoch - 4ms/step\n",
      "Epoch 79/100\n",
      "86/86 - 0s - loss: 2.0955e-04 - 325ms/epoch - 4ms/step\n",
      "Epoch 80/100\n",
      "86/86 - 0s - loss: 1.9427e-04 - 326ms/epoch - 4ms/step\n",
      "Epoch 81/100\n",
      "86/86 - 0s - loss: 1.6003e-04 - 327ms/epoch - 4ms/step\n",
      "Epoch 82/100\n",
      "86/86 - 0s - loss: 1.6319e-04 - 324ms/epoch - 4ms/step\n",
      "Epoch 83/100\n",
      "86/86 - 0s - loss: 1.3941e-04 - 327ms/epoch - 4ms/step\n",
      "Epoch 84/100\n",
      "86/86 - 0s - loss: 1.3378e-04 - 328ms/epoch - 4ms/step\n",
      "Epoch 85/100\n",
      "86/86 - 0s - loss: 1.1289e-04 - 331ms/epoch - 4ms/step\n",
      "Epoch 86/100\n",
      "86/86 - 0s - loss: 1.0378e-04 - 331ms/epoch - 4ms/step\n",
      "Epoch 87/100\n",
      "86/86 - 0s - loss: 9.7286e-05 - 334ms/epoch - 4ms/step\n",
      "Epoch 88/100\n",
      "86/86 - 0s - loss: 8.1856e-05 - 326ms/epoch - 4ms/step\n",
      "Epoch 89/100\n",
      "86/86 - 0s - loss: 7.0579e-05 - 324ms/epoch - 4ms/step\n",
      "Epoch 90/100\n",
      "86/86 - 0s - loss: 6.7659e-05 - 324ms/epoch - 4ms/step\n",
      "Epoch 91/100\n",
      "86/86 - 0s - loss: 5.8908e-05 - 325ms/epoch - 4ms/step\n",
      "Epoch 92/100\n",
      "86/86 - 0s - loss: 4.9829e-05 - 324ms/epoch - 4ms/step\n",
      "Epoch 93/100\n",
      "86/86 - 0s - loss: 4.2231e-05 - 329ms/epoch - 4ms/step\n",
      "Epoch 94/100\n",
      "86/86 - 0s - loss: 3.7112e-05 - 326ms/epoch - 4ms/step\n",
      "Epoch 95/100\n",
      "86/86 - 0s - loss: 3.2805e-05 - 329ms/epoch - 4ms/step\n",
      "Epoch 96/100\n",
      "86/86 - 0s - loss: 2.8755e-05 - 327ms/epoch - 4ms/step\n",
      "Epoch 97/100\n",
      "86/86 - 0s - loss: 2.1275e-05 - 328ms/epoch - 4ms/step\n",
      "Epoch 98/100\n",
      "86/86 - 0s - loss: 2.1445e-05 - 325ms/epoch - 4ms/step\n",
      "Epoch 99/100\n",
      "86/86 - 0s - loss: 1.9630e-05 - 325ms/epoch - 4ms/step\n",
      "Epoch 100/100\n",
      "86/86 - 0s - loss: 1.3174e-05 - 322ms/epoch - 4ms/step\n"
     ]
    },
    {
     "data": {
      "text/plain": [
       "<keras.callbacks.History at 0x2effc3cd0>"
      ]
     },
     "execution_count": 61,
     "metadata": {},
     "output_type": "execute_result"
    }
   ],
   "source": [
    "# reshape input to be [samples, time steps, features]\n",
    "trainX = np.reshape(trainX, (trainX.shape[0], 1, trainX.shape[1]))\n",
    "testX = np.reshape(testX, (testX.shape[0], 1, testX.shape[1]))\n",
    "# create and fit the LSTM network\n",
    "model = keras.Sequential()\n",
    "model.add(layers.LSTM(4, input_shape=(1, look_back)))\n",
    "model.add(layers.Dense(1))\n",
    "model.compile(loss='mean_squared_error', optimizer='adam')\n",
    "model.fit(trainX, trainY, epochs=100, batch_size=1, verbose=2)\n"
   ]
  },
  {
   "cell_type": "code",
   "execution_count": 70,
   "metadata": {},
   "outputs": [
    {
     "ename": "InvalidArgumentError",
     "evalue": "Graph execution error:\n\ntranspose expects a vector of size 2. But input(1) is a vector of size 3\n\t [[{{node transpose}}]]\n\t [[sequential_5/lstm_8/PartitionedCall]] [Op:__inference_predict_function_137977]",
     "output_type": "error",
     "traceback": [
      "\u001b[0;31m---------------------------------------------------------------------------\u001b[0m",
      "\u001b[0;31mInvalidArgumentError\u001b[0m                      Traceback (most recent call last)",
      "\u001b[1;32m/Users/kmoy14/Documents/CS 230/cs-230-final-project/LSTM.ipynb Cell 10'\u001b[0m in \u001b[0;36m<cell line: 3>\u001b[0;34m()\u001b[0m\n\u001b[1;32m      <a href='vscode-notebook-cell:/Users/kmoy14/Documents/CS%20230/cs-230-final-project/LSTM.ipynb#ch0000029?line=0'>1</a>\u001b[0m testPredict \u001b[39m=\u001b[39m np\u001b[39m.\u001b[39mzeros((testX\u001b[39m.\u001b[39mshape[\u001b[39m0\u001b[39m],\u001b[39m1\u001b[39m))\n\u001b[0;32m----> <a href='vscode-notebook-cell:/Users/kmoy14/Documents/CS%20230/cs-230-final-project/LSTM.ipynb#ch0000029?line=2'>3</a>\u001b[0m test_init \u001b[39m=\u001b[39m model\u001b[39m.\u001b[39;49mpredict(testX[\u001b[39m0\u001b[39;49m,:,:])\n\u001b[1;32m      <a href='vscode-notebook-cell:/Users/kmoy14/Documents/CS%20230/cs-230-final-project/LSTM.ipynb#ch0000029?line=3'>4</a>\u001b[0m testPredict[\u001b[39m0\u001b[39m,\u001b[39m1\u001b[39m] \u001b[39m=\u001b[39m test_init\n",
      "File \u001b[0;32m~/miniforge3/envs/tensorflow/lib/python3.9/site-packages/keras/utils/traceback_utils.py:67\u001b[0m, in \u001b[0;36mfilter_traceback.<locals>.error_handler\u001b[0;34m(*args, **kwargs)\u001b[0m\n\u001b[1;32m     <a href='file:///Users/kmoy14/miniforge3/envs/tensorflow/lib/python3.9/site-packages/keras/utils/traceback_utils.py?line=64'>65</a>\u001b[0m \u001b[39mexcept\u001b[39;00m \u001b[39mException\u001b[39;00m \u001b[39mas\u001b[39;00m e:  \u001b[39m# pylint: disable=broad-except\u001b[39;00m\n\u001b[1;32m     <a href='file:///Users/kmoy14/miniforge3/envs/tensorflow/lib/python3.9/site-packages/keras/utils/traceback_utils.py?line=65'>66</a>\u001b[0m   filtered_tb \u001b[39m=\u001b[39m _process_traceback_frames(e\u001b[39m.\u001b[39m__traceback__)\n\u001b[0;32m---> <a href='file:///Users/kmoy14/miniforge3/envs/tensorflow/lib/python3.9/site-packages/keras/utils/traceback_utils.py?line=66'>67</a>\u001b[0m   \u001b[39mraise\u001b[39;00m e\u001b[39m.\u001b[39mwith_traceback(filtered_tb) \u001b[39mfrom\u001b[39;00m \u001b[39mNone\u001b[39m\n\u001b[1;32m     <a href='file:///Users/kmoy14/miniforge3/envs/tensorflow/lib/python3.9/site-packages/keras/utils/traceback_utils.py?line=67'>68</a>\u001b[0m \u001b[39mfinally\u001b[39;00m:\n\u001b[1;32m     <a href='file:///Users/kmoy14/miniforge3/envs/tensorflow/lib/python3.9/site-packages/keras/utils/traceback_utils.py?line=68'>69</a>\u001b[0m   \u001b[39mdel\u001b[39;00m filtered_tb\n",
      "File \u001b[0;32m~/miniforge3/envs/tensorflow/lib/python3.9/site-packages/tensorflow/python/eager/execute.py:54\u001b[0m, in \u001b[0;36mquick_execute\u001b[0;34m(op_name, num_outputs, inputs, attrs, ctx, name)\u001b[0m\n\u001b[1;32m     <a href='file:///Users/kmoy14/miniforge3/envs/tensorflow/lib/python3.9/site-packages/tensorflow/python/eager/execute.py?line=51'>52</a>\u001b[0m \u001b[39mtry\u001b[39;00m:\n\u001b[1;32m     <a href='file:///Users/kmoy14/miniforge3/envs/tensorflow/lib/python3.9/site-packages/tensorflow/python/eager/execute.py?line=52'>53</a>\u001b[0m   ctx\u001b[39m.\u001b[39mensure_initialized()\n\u001b[0;32m---> <a href='file:///Users/kmoy14/miniforge3/envs/tensorflow/lib/python3.9/site-packages/tensorflow/python/eager/execute.py?line=53'>54</a>\u001b[0m   tensors \u001b[39m=\u001b[39m pywrap_tfe\u001b[39m.\u001b[39mTFE_Py_Execute(ctx\u001b[39m.\u001b[39m_handle, device_name, op_name,\n\u001b[1;32m     <a href='file:///Users/kmoy14/miniforge3/envs/tensorflow/lib/python3.9/site-packages/tensorflow/python/eager/execute.py?line=54'>55</a>\u001b[0m                                       inputs, attrs, num_outputs)\n\u001b[1;32m     <a href='file:///Users/kmoy14/miniforge3/envs/tensorflow/lib/python3.9/site-packages/tensorflow/python/eager/execute.py?line=55'>56</a>\u001b[0m \u001b[39mexcept\u001b[39;00m core\u001b[39m.\u001b[39m_NotOkStatusException \u001b[39mas\u001b[39;00m e:\n\u001b[1;32m     <a href='file:///Users/kmoy14/miniforge3/envs/tensorflow/lib/python3.9/site-packages/tensorflow/python/eager/execute.py?line=56'>57</a>\u001b[0m   \u001b[39mif\u001b[39;00m name \u001b[39mis\u001b[39;00m \u001b[39mnot\u001b[39;00m \u001b[39mNone\u001b[39;00m:\n",
      "\u001b[0;31mInvalidArgumentError\u001b[0m: Graph execution error:\n\ntranspose expects a vector of size 2. But input(1) is a vector of size 3\n\t [[{{node transpose}}]]\n\t [[sequential_5/lstm_8/PartitionedCall]] [Op:__inference_predict_function_137977]"
     ]
    }
   ],
   "source": [
    "testPredict = np.zeros((testX.shape[0],1))\n",
    "\n",
    "test_init = model.predict(testX[0,:,:])\n",
    "testPredict[0,1] = test_init\n",
    "\n",
    "for i in range(1,testX.shape[0]):\n",
    "    test_i = model.predict(np.reshape(test_init, (-1, 1, 1)))\n",
    "    testPredict[i,1] = test_i\n",
    "    test_init = test_i\n",
    "    \n"
   ]
  },
  {
   "cell_type": "code",
   "execution_count": null,
   "metadata": {},
   "outputs": [],
   "source": []
  },
  {
   "cell_type": "code",
   "execution_count": 62,
   "metadata": {},
   "outputs": [
    {
     "name": "stdout",
     "output_type": "stream",
     "text": [
      "3/3 [==============================] - 0s 10ms/step\n",
      "1/7 [===>..........................] - ETA: 0s"
     ]
    },
    {
     "name": "stderr",
     "output_type": "stream",
     "text": [
      "2022-05-24 22:10:27.381672: I tensorflow/core/grappler/optimizers/custom_graph_optimizer_registry.cc:113] Plugin optimizer for device_type GPU is enabled.\n",
      "2022-05-24 22:10:27.413522: I tensorflow/core/grappler/optimizers/custom_graph_optimizer_registry.cc:113] Plugin optimizer for device_type GPU is enabled.\n"
     ]
    },
    {
     "name": "stdout",
     "output_type": "stream",
     "text": [
      "7/7 [==============================] - 0s 31ms/step\n",
      "Train Score: 0.00 RMSE\n",
      "Test Score: 0.00 RMSE\n"
     ]
    },
    {
     "data": {
      "image/png": "[encoded data removed]",
      "text/plain": [
       "<Figure size 720x576 with 1 Axes>"
      ]
     },
     "metadata": {
      "needs_background": "light"
     },
     "output_type": "display_data"
    }
   ],
   "source": [
    "# make predictions\n",
    "trainPredict = model.predict(trainX)\n",
    "\n",
    "\n",
    "\n",
    "\n",
    "testPredict = model.predict(testX)\n",
    "# invert predictions\n",
    "trainPredict = scaler.inverse_transform(trainPredict)\n",
    "trainY = scaler.inverse_transform([trainY])\n",
    "testPredict = scaler.inverse_transform(testPredict)\n",
    "testY = scaler.inverse_transform([testY])\n",
    "# calculate root mean squared error\n",
    "trainScore = np.sqrt(mean_squared_error(trainY[0], trainPredict[:,0]))\n",
    "print('Train Score: %.5f RMSE' % (trainScore))\n",
    "testScore = np.sqrt(mean_squared_error(testY[0], testPredict[:,0]))\n",
    "print('Test Score: %.5f RMSE' % (testScore))\n",
    "# shift train predictions for plotting\n",
    "trainPredictPlot = np.empty_like(W5_caps)\n",
    "trainPredictPlot[:, :] = np.nan\n",
    "trainPredictPlot[look_back:len(trainPredict)+look_back, :] = trainPredict\n",
    "# shift test predictions for plotting\n",
    "testPredictPlot = np.empty_like(W5_caps)\n",
    "testPredictPlot[:, :] = np.nan\n",
    "testPredictPlot[len(trainPredict)+(look_back*2)+1:len(W5_caps)-1, :] = testPredict\n",
    "# plot baseline and predictions\n",
    "plt.plot(scaler.inverse_transform(W5_caps))\n",
    "plt.plot(trainPredictPlot)\n",
    "plt.plot(testPredictPlot)\n",
    "plt.show()"
   ]
  },
  {
   "cell_type": "code",
   "execution_count": null,
   "metadata": {},
   "outputs": [],
   "source": [
    "# Plot single training example\n",
    "plt.plot(X_train[20,:,0])\n",
    "plt.plot(X_train[20,:,1])\n",
    "plt.plot(X_valid[20,:,0])\n",
    "plt.plot(X_valid[20,:,1])\n",
    "print(X_train.shape)\n",
    "plt.show()"
   ]
  },
  {
   "cell_type": "code",
   "execution_count": null,
   "metadata": {},
   "outputs": [],
   "source": [
    "# Plot all output values\n",
    "plt.plot(W8_cell_data[:,0])\n",
    "plt.plot(W9_cell_data[:,0])\n",
    "plt.show()"
   ]
  },
  {
   "cell_type": "code",
   "execution_count": 5,
   "metadata": {},
   "outputs": [],
   "source": [
    "def build_lstm_model():\n",
    "    model = keras.Sequential()\n",
    "    model.add(layers.LSTM(10, input_shape=(n_time, n_feat), return_sequences=True))\n",
    "    model.add(layers.LSTM(10, input_shape=(n_time, n_feat)))\n",
    "    # model.add(layers.BatchNormalization())\n",
    "    # Stack LSTM instead of Dense\n",
    "    # model.add(layers.Dense(20, activation=\"relu\"))  # Add back in if need more than 5 units for LSTM\n",
    "    # model.add(layers.Dense(40, activation=\"relu\"))  # Add back in if need more than 5 units for LSTM\n",
    "    # model.add(layers.Dense(20, activation=\"relu\"))  # Add back in if need more than 5 units for LSTM\n",
    "    # model.add(layers.Dense(5, activation=\"relu\"))   # Add back in if need more than 5 units for LSTM\n",
    "    model.add(layers.Dense(1, activation=\"linear\"))\n",
    "    model.compile(\n",
    "        optimizer=keras.optimizers.Adam(),\n",
    "        loss=\"mean_absolute_error\",\n",
    "        metrics=[\"mean_squared_error\"],\n",
    "    )\n",
    "    return model"
   ]
  },
  {
   "cell_type": "code",
   "execution_count": 9,
   "metadata": {},
   "outputs": [
    {
     "name": "stdout",
     "output_type": "stream",
     "text": [
      "Model: \"sequential_2\"\n",
      "_________________________________________________________________\n",
      " Layer (type)                Output Shape              Param #   \n",
      "=================================================================\n",
      " lstm_4 (LSTM)               (None, 1200, 10)          520       \n",
      "                                                                 \n",
      " lstm_5 (LSTM)               (None, 10)                840       \n",
      "                                                                 \n",
      " dense_2 (Dense)             (None, 1)                 11        \n",
      "                                                                 \n",
      "=================================================================\n",
      "Total params: 1,371\n",
      "Trainable params: 1,371\n",
      "Non-trainable params: 0\n",
      "_________________________________________________________________\n"
     ]
    }
   ],
   "source": [
    "lstm_model = build_lstm_model()\n",
    "# Check shape of model (need to instantiate input shape)\n",
    "lstm_model.summary()"
   ]
  },
  {
   "cell_type": "code",
   "execution_count": null,
   "metadata": {},
   "outputs": [],
   "source": [
    "history = lstm_model.fit(X_train,y_train,\n",
    "                    validation_data=(X_valid, y_valid),\n",
    "                    epochs=10,\n",
    "                    verbose=2,\n",
    "                    batch_size=48)"
   ]
  },
  {
   "cell_type": "code",
   "execution_count": null,
   "metadata": {},
   "outputs": [],
   "source": [
    "y_hat = lstm_model.predict(X_test)\n",
    "y_hat_plot = np.ravel(y_hat)\n",
    "plt.plot(y_hat_plot)\n",
    "plt.plot(y_test, linewidth=3)\n",
    "plt.legend(['Estimated W9', 'Actual W9'])\n",
    "plt.xlabel(\"Datapoint [-]\")\n",
    "plt.ylabel(\"Capacity [%]\")\n",
    "plt.show()\n",
    "lstm_model.evaluate(X_test, y_test, verbose=2)\n",
    "\n",
    "plt.plot(history.history['loss'])\n",
    "plt.plot(history.history['val_loss'])\n",
    "plt.legend(['Training', 'Validation'])\n",
    "plt.xlabel(\"Epoch [-]\")\n",
    "plt.ylabel(\"Loss [-]\")\n",
    "plt.show()"
   ]
  },
  {
   "cell_type": "code",
   "execution_count": null,
   "metadata": {},
   "outputs": [],
   "source": [
    "cnn_model.save(\"cnnmodel_w8_500_MAE\")"
   ]
  },
  {
   "cell_type": "code",
   "execution_count": null,
   "metadata": {},
   "outputs": [],
   "source": [
    "# Validate on W10 cell\n",
    "\n",
    "mat = scipy.io.loadmat('W10_samples.mat')\n",
    "W10_cell_data = mat['cell_data']\n",
    "\n",
    "del mat\n",
    "\n",
    "X_test_W10 = W10_cell_data[:,1:]\n",
    "y_test_W10 = W10_cell_data[:,0]*100\n",
    "\n",
    "# Reshape for CNN: shape = (# samples, # timesteps, # features)\n",
    "X_test_W10 = np.transpose(np.reshape(X_test_W10, (X_test_W10.shape[0], 2, int(X_test_W10.shape[1]/2))), (0, 2, 1))\n",
    "\n",
    "# Downsample test by 1/10th\n",
    "y_test_W10 = y_test_W10[0::10]\n",
    "X_test_W10 = X_test_W10[0::10, :, :]\n",
    "\n",
    "y_hat_W10 = cnn_model.predict(X_test_W10)\n",
    "y_hat_plot_W10 = np.ravel(y_hat_W10)\n",
    "plt.plot(y_hat_plot_W10)\n",
    "plt.plot(y_test_W10, linewidth=3)\n",
    "plt.legend(['Estimated W10', 'Actual W10'])\n",
    "plt.xlabel(\"Datapoint [-]\")\n",
    "plt.ylabel(\"Capacity [%]\")\n",
    "plt.show()\n",
    "cnn_model.evaluate(X_test_W10, y_test_W10, verbose=2)\n"
   ]
  },
  {
   "cell_type": "markdown",
   "metadata": {},
   "source": [
    "Validate on W5 cell"
   ]
  },
  {
   "cell_type": "code",
   "execution_count": null,
   "metadata": {},
   "outputs": [],
   "source": [
    "# Validate on W5 cell\n",
    "\n",
    "mat = scipy.io.loadmat('W5_samples.mat')\n",
    "W5_cell_data = mat['cell_data']\n",
    "\n",
    "del mat\n",
    "\n",
    "X_test_W5 = W5_cell_data[:,1:]\n",
    "y_test_W5 = W5_cell_data[:,0]*100\n",
    "\n",
    "# Reshape for CNN: shape = (# samples, # timesteps, # features)\n",
    "X_test_W5 = np.transpose(np.reshape(X_test_W5, (X_test_W5.shape[0], 2, int(X_test_W5.shape[1]/2))), (0, 2, 1))\n",
    "\n",
    "# Downsample test by 1/10th\n",
    "y_test_W5 = y_test_W5[0::10]\n",
    "X_test_W5 = X_test_W5[0::10, :, :]\n",
    "\n",
    "y_hat_W5 = cnn_model.predict(X_test_W5)\n",
    "\n",
    "y_hat_plot_W5 = np.ravel(y_hat_W5)\n",
    "plt.plot(y_hat_plot_W5)\n",
    "plt.plot(y_test_W5, linewidth=3)\n",
    "plt.legend(['Estimated W5', 'Actual W5'])\n",
    "plt.xlabel(\"Datapoint [-]\")\n",
    "plt.ylabel(\"Capacity [%]\")\n",
    "plt.show()\n",
    "cnn_model.evaluate(X_test_W5, y_test_W5, verbose=2)"
   ]
  },
  {
   "cell_type": "code",
   "execution_count": null,
   "metadata": {},
   "outputs": [],
   "source": [
    "y_hat_plot_W5 = np.ravel(y_hat_W5)\n",
    "y_hat_plot_w5_test = y_hat_plot_W5.copy()\n",
    "y_hat_plot_w5_test[y_hat_plot_w5_test>105] = 105\n",
    "plt.plot(y_hat_plot_w5_test)\n",
    "plt.plot(y_test_W5, linewidth=3)\n",
    "plt.legend(['Estimated W5', 'Actual W5'])\n",
    "plt.xlabel(\"Datapoint [-]\")\n",
    "plt.ylabel(\"Capacity [%]\")\n",
    "plt.show()"
   ]
  },
  {
   "cell_type": "code",
   "execution_count": null,
   "metadata": {},
   "outputs": [],
   "source": []
  }
 ],
 "metadata": {
  "interpreter": {
   "hash": "0ba65a70a05ccd86223b5198e0f77d235c77b3735aba577475f078c959d11cca"
  },
  "kernelspec": {
   "display_name": "Python 3.9.5 ('tensorflow')",
   "language": "python",
   "name": "python3"
  },
  "language_info": {
   "codemirror_mode": {
    "name": "ipython",
    "version": 3
   },
   "file_extension": ".py",
   "mimetype": "text/x-python",
   "name": "python",
   "nbconvert_exporter": "python",
   "pygments_lexer": "ipython3",
   "version": "3.9.5"
  },
  "orig_nbformat": 4
 },
 "nbformat": 4,
 "nbformat_minor": 2
}
